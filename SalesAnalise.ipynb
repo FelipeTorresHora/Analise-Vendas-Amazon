{
  "nbformat": 4,
  "nbformat_minor": 0,
  "metadata": {
    "colab": {
      "provenance": []
    },
    "kernelspec": {
      "name": "python3",
      "display_name": "Python 3"
    },
    "language_info": {
      "name": "python"
    }
  },
  "cells": [
    {
      "cell_type": "code",
      "source": [
        "import pandas as pd\n",
        "import matplotlib as plt\n",
        "import numpy as np\n",
        "from sklearn.model_selection import train_test_split\n",
        "from sklearn.preprocessing import StandardScaler\n",
        "from sklearn.ensemble import RandomForestRegressor\n",
        "from sklearn.metrics import mean_absolute_error, mean_squared_error, r2_score\n",
        "from sklearn.preprocessing import LabelEncoder\n",
        "import itertools\n",
        "import seaborn as sns\n",
        "import matplotlib.pyplot as plt"
      ],
      "metadata": {
        "id": "qhKEeLgWMW_-"
      },
      "execution_count": null,
      "outputs": []
    },
    {
      "cell_type": "code",
      "source": [
        "#Extraindo os dados\n",
        "data = pd.read_csv('Amazon Sale Report.csv',sep=\";\")\n",
        "\n",
        "#Explorando os dados\n",
        "# print(data.head())\n",
        "# print(data.info())\n",
        "# print(data.describe())\n"
      ],
      "metadata": {
        "id": "k5j3oYq3MXDT"
      },
      "execution_count": null,
      "outputs": []
    },
    {
      "cell_type": "code",
      "source": [
        "#Limpando os dados e Filtrando para analise\n",
        "data.dropna(inplace=True)\n",
        "\n",
        "data['Date'] = pd.to_datetime(data['Date'])\n",
        "data['Month'] = data['Date'].dt.month\n",
        "data['Year'] = data['Date'].dt.year\n",
        "\n",
        "le = LabelEncoder()\n",
        "data['Fulfilment'] = le.fit_transform(data['Fulfilment'])\n",
        "data['Category'] = le.fit_transform(data['Category'])"
      ],
      "metadata": {
        "id": "_5GoU5XwMXGU"
      },
      "execution_count": null,
      "outputs": []
    },
    {
      "cell_type": "code",
      "source": [
        "#Selecionando as colunas para previsão\n",
        "X = data[['Fulfilment', 'Category', 'Month']]\n",
        "y = data['Amount']\n",
        "\n",
        "#Train-Test Split\n",
        "X_train, X_test, y_train, y_test = train_test_split(X, y, test_size=0.25, random_state=42)\n",
        "\n",
        "scaler = StandardScaler()\n",
        "X_train = scaler.fit_transform(X_train)\n",
        "X_test = scaler.transform(X_test)\n",
        "\n",
        "#Escolehndo o modelo Random Forest\n",
        "rf = RandomForestRegressor(n_estimators=100, random_state=42)\n",
        "rf.fit(X_train, y_train)\n",
        "\n",
        "#Valores do modelo\n",
        "rf_predictions = rf.predict(X_test)\n",
        "print(\"Random Forest MAE:\", mean_absolute_error(y_test, rf_predictions))\n",
        "print(\"Random Forest MSE:\", mean_squared_error(y_test, rf_predictions))\n",
        "print(\"Random Forest R2:\", r2_score(y_test, rf_predictions))\n"
      ],
      "metadata": {
        "id": "4mWx4P9IMXJw"
      },
      "execution_count": null,
      "outputs": []
    },
    {
      "cell_type": "code",
      "source": [
        "#Prevendo os valores futuros\n",
        "fulfilment_unique = data['Fulfilment'].unique()\n",
        "category_unique = data['Category'].unique()\n",
        "month_unique = [1, 2, 3, 4, 5, 6, 7, 8, 9, 10, 11, 12]\n",
        "#Juntando as novas colunas\n",
        "combinacao = list(itertools.product(fulfilment_unique, category_unique, month_unique))\n",
        "vendas_futuras = pd.DataFrame(combinacao, columns=['Fulfilment', 'Category', 'Month'])\n",
        "#Adicionando a coluna de previsão de vendas\n",
        "vendas_futuras_scaled = scaler.transform(vendas_futuras)\n",
        "vendas_futuras['predicted_sales'] = rf.predict(vendas_futuras_scaled)\n",
        "vendas_futuras.info()\n",
        "\n"
      ],
      "metadata": {
        "id": "wYrxks3NMqGP"
      },
      "execution_count": null,
      "outputs": []
    },
    {
      "cell_type": "code",
      "source": [
        "#Visualizando as colunas com mais vendas\n",
        "vendas_futuras.groupby('Category')['predicted_sales'].sum()"
      ],
      "metadata": {
        "id": "pjNBAv7m7JGS"
      },
      "execution_count": null,
      "outputs": []
    },
    {
      "cell_type": "code",
      "source": [
        "#Encontrando as categorias em relação ao seu numero no labelEncoder\n",
        "le.classes_"
      ],
      "metadata": {
        "id": "AQ4vghBCqcwm"
      },
      "execution_count": null,
      "outputs": []
    },
    {
      "cell_type": "code",
      "source": [
        "# Somando os valores de cada categoria\n",
        "category_sales = vendas_futuras.groupby('Category')['predicted_sales'].sum().sort_values(ascending=False)\n",
        "\n",
        "# Indexando as 5 melhores categorias\n",
        "index_cat = category_sales.head(5).index\n",
        "\n",
        "# Filtrando para obter os dados das 5 categorias\n",
        "filt_cat = vendas_futuras[vendas_futuras['Category'].isin(index_cat)]\n",
        "\n",
        "# Agrupando os dados das 5 categorias nas duas colunas\n",
        "cat_top5 = filt_cat.groupby('Category')['predicted_sales'].sum()\n",
        "\n",
        "# Criando o gráfico\n",
        "\n",
        "plt.figure(figsize=(8, 8))\n",
        "plt.pie(cat_top5, labels=cat_top5.index)\n",
        "plt.title('5 categorias com mais vendas')\n",
        "plt.axis('equal')\n",
        "plt.show()"
      ],
      "metadata": {
        "id": "eqgC7aDSZ2-u"
      },
      "execution_count": null,
      "outputs": []
    },
    {
      "cell_type": "code",
      "source": [
        "# Filtrando para obter somente valores da categoria 5\n",
        "cat5 = vendas_futuras[vendas_futuras['Category'] == 5]\n",
        "\n",
        "# Crieando barplot com Seaborn\n",
        "sns.set()\n",
        "sns.barplot(x='Month', y='predicted_sales', data=cat5)\n",
        "\n",
        "# Adicionando titulo e legendas\n",
        "plt.title('Previsões de vendas da categoria 5')\n",
        "plt.xlabel('Meses')\n",
        "plt.ylabel('Previsão de Vendas')\n",
        "\n",
        "plt.show()"
      ],
      "metadata": {
        "id": "MKov6W1J71K7"
      },
      "execution_count": null,
      "outputs": []
    }
  ]
}