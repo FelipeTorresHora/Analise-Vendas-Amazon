{
  "cells": [
    {
      "cell_type": "code",
      "execution_count": 3,
      "metadata": {
        "id": "qhKEeLgWMW_-"
      },
      "outputs": [],
      "source": [
        "import pandas as pd\n",
        "import numpy as np\n",
        "import itertools\n",
        "from sklearn.model_selection import train_test_split, GridSearchCV\n",
        "from sklearn.preprocessing import StandardScaler, LabelEncoder\n",
        "from sklearn.ensemble import RandomForestRegressor\n",
        "from sklearn.pipeline import Pipeline\n",
        "from sklearn.compose import ColumnTransformer\n",
        "from sklearn.metrics import mean_absolute_error, mean_squared_error, r2_score\n",
        "import joblib"
      ]
    },
    {
      "cell_type": "code",
      "execution_count": 4,
      "metadata": {
        "id": "k5j3oYq3MXDT"
      },
      "outputs": [
        {
          "name": "stdout",
          "output_type": "stream",
          "text": [
            "       Date Fulfilment       Category Size  Qty currency  Amount    ship-city\n",
            "0  04-30-22   Merchant            Set    S    0      INR  647.62       MUMBAI\n",
            "1  04-30-22   Merchant          kurta  3XL    1      INR  406.00    BENGALURU\n",
            "2  04-30-22     Amazon          kurta   XL    1      INR  329.00  NAVI MUMBAI\n",
            "3  04-30-22   Merchant  Western Dress    L    0      INR  753.33   PUDUCHERRY\n",
            "4  04-30-22     Amazon            Top  3XL    1      INR  574.00      CHENNAI\n"
          ]
        }
      ],
      "source": [
        "#Extraindo os dados\n",
        "data = pd.read_csv('Amazon Sale Report.csv',sep=\";\")\n",
        "\n",
        "#Explorando os dados\n",
        "print(data.head())\n",
        "# print(data.info())\n",
        "# print(data.describe())\n"
      ]
    },
    {
      "cell_type": "code",
      "execution_count": 8,
      "metadata": {
        "id": "_5GoU5XwMXGU"
      },
      "outputs": [],
      "source": [
        "# Carregar e pré-processar dados\n",
        "def load_and_preprocess():\n",
        "    data = pd.read_csv('Amazon Sale Report.csv', sep=';')\n",
        "    data.dropna(inplace=True)\n",
        "    \n",
        "    # Converter datas\n",
        "    data['Date'] = pd.to_datetime(data['Date'], errors='coerce')\n",
        "    data['Month'] = data['Date'].dt.month\n",
        "    data['Year'] = data['Date'].dt.year\n",
        "    \n",
        "    # Codificação categórica\n",
        "    le = LabelEncoder()\n",
        "    data['Fulfilment'] = le.fit_transform(data['Fulfilment'])\n",
        "    data['Category'] = le.fit_transform(data['Category'])\n",
        "    \n",
        "    return data, le"
      ]
    },
    {
      "cell_type": "code",
      "execution_count": 9,
      "metadata": {
        "id": "4mWx4P9IMXJw"
      },
      "outputs": [
        {
          "name": "stderr",
          "output_type": "stream",
          "text": [
            "C:\\Users\\Felipe\\AppData\\Local\\Temp\\ipykernel_7040\\3317647939.py:7: UserWarning: Could not infer format, so each element will be parsed individually, falling back to `dateutil`. To ensure parsing is consistent and as-expected, please specify a format.\n",
            "  data['Date'] = pd.to_datetime(data['Date'], errors='coerce')\n"
          ]
        },
        {
          "name": "stdout",
          "output_type": "stream",
          "text": [
            "MAE: 152.233824789727\n",
            "MSE: 48055.16892858606\n",
            "R2: 0.39047592407622045\n"
          ]
        }
      ],
      "source": [
        "# Treinar e salvar modelo\n",
        "def train_and_save_model():\n",
        "    data, le = load_and_preprocess()\n",
        "    \n",
        "    # Features e target\n",
        "    X = data[['Fulfilment', 'Category', 'Month']]\n",
        "    y = data['Amount']\n",
        "    \n",
        "    # Divisão treino-teste\n",
        "    X_train, X_test, y_train, y_test = train_test_split(X, y, test_size=0.25, random_state=42)\n",
        "    \n",
        "    # Pipeline de pré-processamento\n",
        "    preprocessor = ColumnTransformer(\n",
        "        transformers=[\n",
        "            ('scaler', StandardScaler(), ['Fulfilment', 'Category', 'Month'])\n",
        "        ])\n",
        "    \n",
        "    # Modelo e Grid Search\n",
        "    pipeline = Pipeline([\n",
        "        ('preprocessor', preprocessor),\n",
        "        ('model', RandomForestRegressor(random_state=42))\n",
        "    ])\n",
        "    \n",
        "    param_grid = {\n",
        "        'model__n_estimators': [100, 200],\n",
        "        'model__max_depth': [None, 10]\n",
        "    }\n",
        "    \n",
        "    grid_search = GridSearchCV(pipeline, param_grid, cv=3, scoring='r2')\n",
        "    grid_search.fit(X_train, y_train)\n",
        "    \n",
        "    # Salvar modelo e encoder\n",
        "    joblib.dump(grid_search.best_estimator_, 'best_model.pkl')\n",
        "    joblib.dump(le, 'label_encoder.pkl')\n",
        "    \n",
        "    # Gerar previsões futuras\n",
        "    fulfilment_unique = data['Fulfilment'].unique()\n",
        "    category_unique = data['Category'].unique()\n",
        "    month_unique = np.arange(1, 13)\n",
        "    \n",
        "    combinacao = list(itertools.product(fulfilment_unique, category_unique, month_unique))\n",
        "    vendas_futuras = pd.DataFrame(combinacao, columns=['Fulfilment', 'Category', 'Month'])\n",
        "    vendas_futuras['predicted_sales'] = grid_search.predict(vendas_futuras)\n",
        "    vendas_futuras.to_csv('vendas_futuras.csv', index=False)\n",
        "    \n",
        "    return grid_search.best_estimator_, X_test, y_test\n",
        "\n",
        "if __name__ == \"__main__\":\n",
        "    model, X_test, y_test = train_and_save_model()\n",
        "    y_pred = model.predict(X_test)\n",
        "    \n",
        "    print(\"MAE:\", mean_absolute_error(y_test, y_pred))\n",
        "    print(\"MSE:\", mean_squared_error(y_test, y_pred))\n",
        "    print(\"R2:\", r2_score(y_test, y_pred))"
      ]
    }
  ],
  "metadata": {
    "colab": {
      "provenance": []
    },
    "kernelspec": {
      "display_name": "Python 3",
      "name": "python3"
    },
    "language_info": {
      "codemirror_mode": {
        "name": "ipython",
        "version": 3
      },
      "file_extension": ".py",
      "mimetype": "text/x-python",
      "name": "python",
      "nbconvert_exporter": "python",
      "pygments_lexer": "ipython3",
      "version": "3.11.9"
    }
  },
  "nbformat": 4,
  "nbformat_minor": 0
}
